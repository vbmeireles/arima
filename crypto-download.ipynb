{
 "cells": [
  {
   "cell_type": "markdown",
   "metadata": {},
   "source": [
    "<h1>MODELAGEM PREDITIVA DE CRIPTOATIVOS COM ARIMA</h1>\n",
    "<p>Vinicius Barrozo Meireles</p>\n",
    "<ul>\n",
    "<li><b>Parte 1/5 - Coleta dos Dados</b></li>\n",
    "</ul>"
   ]
  },
  {
   "cell_type": "code",
   "execution_count": 1,
   "metadata": {},
   "outputs": [],
   "source": [
    "import pandas as pd\n",
    "import yfinance as yf\n",
    "\n",
    "import warnings\n",
    "warnings.filterwarnings('ignore')"
   ]
  },
  {
   "cell_type": "markdown",
   "metadata": {},
   "source": [
    "<h2>Parte 1/5 - Coleta dos Dados</h2>"
   ]
  },
  {
   "cell_type": "code",
   "execution_count": 2,
   "metadata": {
    "scrolled": false
   },
   "outputs": [
    {
     "name": "stdout",
     "output_type": "stream",
     "text": [
      "        Market       Provider    Color   Color2\n",
      "Ticker                                         \n",
      "BLX        BTC   Trading View  #ff9900  #cc6600\n",
      "BTC-USD    BTC  Yahoo Finance  #ff9900  #cc6600\n",
      "ETH-USD    ETH  Yahoo Finance  #666666  #333333\n",
      "ETH-BTC    ETH            NaN  #666666  #333333\n",
      "XRP-USD    XRP  Yahoo Finance  #006699  #003366\n",
      "XRP-BTC    XRP            NaN  #006699  #003366\n"
     ]
    }
   ],
   "source": [
    "tickers = pd.read_csv('tickers.csv', index_col=0)\n",
    "print(tickers)"
   ]
  },
  {
   "cell_type": "code",
   "execution_count": 3,
   "metadata": {
    "scrolled": true
   },
   "outputs": [],
   "source": [
    "for ticker, market in tickers.loc[tickers.Provider == 'Yahoo Finance'].Market.items():\n",
    "    df = yf.download(ticker, period='max', auto_adjust=True, progress=None)\n",
    "    df.index.name = 'Date'\n",
    "    df.to_csv(market.lower()+'.csv')"
   ]
  }
 ],
 "metadata": {
  "kernelspec": {
   "display_name": "Python 3",
   "language": "python",
   "name": "python3"
  },
  "language_info": {
   "codemirror_mode": {
    "name": "ipython",
    "version": 3
   },
   "file_extension": ".py",
   "mimetype": "text/x-python",
   "name": "python",
   "nbconvert_exporter": "python",
   "pygments_lexer": "ipython3",
   "version": "3.8.3"
  }
 },
 "nbformat": 4,
 "nbformat_minor": 4
}
